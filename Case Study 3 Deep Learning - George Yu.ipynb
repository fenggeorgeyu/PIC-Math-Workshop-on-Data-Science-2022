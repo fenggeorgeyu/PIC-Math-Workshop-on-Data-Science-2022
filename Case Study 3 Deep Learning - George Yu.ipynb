{
 "cells": [
  {
   "cell_type": "code",
   "execution_count": 1,
   "id": "aabde78f",
   "metadata": {},
   "outputs": [],
   "source": [
    "# install package\n",
    "\n",
    "import h5py\n",
    "import numpy as np\n",
    "import matplotlib.pylab as py\n",
    "import random\n",
    "import datetime\n",
    "%matplotlib inline\n",
    "\n",
    "import torch\n",
    "import torch.optim as optim\n",
    "\n",
    "import time\n",
    "from torch import nn\n",
    "from torch.autograd import Variable\n",
    "from torch.utils.data import DataLoader\n",
    "import matplotlib.pyplot as plt\n",
    "\n",
    "\n",
    "from numpy import savetxt\n",
    "from numpy import loadtxt\n",
    "\n",
    "from sklearn.metrics import mean_absolute_error, r2_score, mean_squared_error\n",
    "from sklearn import linear_model\n",
    "\n",
    "from tabulate import tabulate"
   ]
  },
  {
   "cell_type": "code",
   "execution_count": 2,
   "id": "344b08f1",
   "metadata": {},
   "outputs": [
    {
     "name": "stdout",
     "output_type": "stream",
     "text": [
      "./cs3data1.h5 exits\n",
      "./cs3data2.h5 exits\n"
     ]
    }
   ],
   "source": [
    "import requests\n",
    "from pathlib import Path\n",
    "\n",
    "def download(url: str, output_path: str, mode: str = \"wb\") -> None:\n",
    "    if Path(output_path).exists():# test if file exists (yu)\n",
    "        print(f\"{output_path} exits\")\n",
    "        return\n",
    "    else:\n",
    "        res: requests.Response = requests.get(url)\n",
    "        if res.status_code != 200:\n",
    "            raise ValueError(f\"download of {url} failed with status code {res.status_code}\")\n",
    "        with open(output_path, mode=mode) as fp:\n",
    "            fp.write(res.content)\n",
    "\n",
    "download(\n",
    "    url=\"https://raw.githubusercontent.com/rcpaffenroth/PIC-Math-Workshop-on-Data-Science-2022/main/data/cs3data1.h5\",\n",
    "    output_path=\"./cs3data1.h5\",\n",
    ")\n",
    "download(\n",
    "    url=\"https://raw.githubusercontent.com/rcpaffenroth/PIC-Math-Workshop-on-Data-Science-2022/main/data/cs3data2.h5\",\n",
    "    output_path=\"./cs3data2.h5\",\n",
    ")"
   ]
  },
  {
   "cell_type": "code",
   "execution_count": 3,
   "id": "de60a40a",
   "metadata": {},
   "outputs": [
    {
     "data": {
      "text/plain": [
       "'duct_height_save'"
      ]
     },
     "metadata": {},
     "output_type": "display_data"
    },
    {
     "data": {
      "text/plain": [
       "<HDF5 dataset \"duct_height_save\": shape (1, 1), type \"<f8\">"
      ]
     },
     "metadata": {},
     "output_type": "display_data"
    },
    {
     "data": {
      "text/plain": [
       "'field_H_imag_save'"
      ]
     },
     "metadata": {},
     "output_type": "display_data"
    },
    {
     "data": {
      "text/plain": [
       "<HDF5 dataset \"field_H_imag_save\": shape (1201, 40), type \"<f8\">"
      ]
     },
     "metadata": {},
     "output_type": "display_data"
    },
    {
     "data": {
      "text/plain": [
       "'field_H_real_save'"
      ]
     },
     "metadata": {},
     "output_type": "display_data"
    },
    {
     "data": {
      "text/plain": [
       "<HDF5 dataset \"field_H_real_save\": shape (1201, 40), type \"<f8\">"
      ]
     },
     "metadata": {},
     "output_type": "display_data"
    },
    {
     "data": {
      "text/plain": [
       "'field_V_imag_save'"
      ]
     },
     "metadata": {},
     "output_type": "display_data"
    },
    {
     "data": {
      "text/plain": [
       "<HDF5 dataset \"field_V_imag_save\": shape (1201, 40), type \"<f8\">"
      ]
     },
     "metadata": {},
     "output_type": "display_data"
    },
    {
     "data": {
      "text/plain": [
       "'field_V_real_save'"
      ]
     },
     "metadata": {},
     "output_type": "display_data"
    },
    {
     "data": {
      "text/plain": [
       "<HDF5 dataset \"field_V_real_save\": shape (1201, 40), type \"<f8\">"
      ]
     },
     "metadata": {},
     "output_type": "display_data"
    },
    {
     "data": {
      "text/plain": [
       "'range_grid'"
      ]
     },
     "metadata": {},
     "output_type": "display_data"
    },
    {
     "data": {
      "text/plain": [
       "<HDF5 dataset \"range_grid\": shape (1201, 1), type \"<f8\">"
      ]
     },
     "metadata": {},
     "output_type": "display_data"
    }
   ],
   "source": [
    "# load hdf5 data\n",
    "arrays={}\n",
    "\n",
    "# grab the data from the file\n",
    "filepath = ['cs3data1.h5']\n",
    "# filepath = ['cs3data1.h5', 'cs3data2.h5']\n",
    "numfiles = len(filepath)\n",
    "f = 0\n",
    "for i in range(numfiles):\n",
    "    f = h5py.File(filepath[i], 'r')\n",
    "    for k, v in f.items():\n",
    "        #print(k, np.array(v)) # yu: display data in arrays\n",
    "        arrays[k] = v\n",
    "\n",
    "# display what data we have\n",
    "for key in arrays.keys():\n",
    "    display(key, arrays[key])"
   ]
  },
  {
   "cell_type": "code",
   "execution_count": 4,
   "id": "4054432c",
   "metadata": {},
   "outputs": [
    {
     "name": "stdout",
     "output_type": "stream",
     "text": [
      "(1201, 160)\n",
      "(1201,)\n"
     ]
    }
   ],
   "source": [
    "#numranges = 1201\n",
    "numranges = len(arrays[key])\n",
    "\n",
    "# get the electric field data and reshape everything into one np array\n",
    "\n",
    "data_h_real = np.array(arrays['field_H_real_save']).reshape(numranges, 40)\n",
    "data_h_imag = np.array(arrays['field_H_imag_save']).reshape(numranges, 40)\n",
    "data_v_real = np.array(arrays['field_V_real_save']).reshape(numranges, 40)\n",
    "data_v_imag = np.array(arrays['field_V_imag_save']).reshape(numranges, 40)\n",
    "\n",
    "Xraw = []\n",
    "Xraw += [[data_h_real*1, data_h_imag*1, data_v_real*1, data_v_imag*1]]\n",
    "Xraw = np.block(Xraw) # convert to np array\n",
    "print(Xraw.shape)\n",
    "\n",
    "# get the range data\n",
    "ranges = np.zeros((numranges))\n",
    "ranges = np.array(arrays['range_grid']).reshape((numranges))\n",
    "\n",
    "yraw = []\n",
    "yraw += [ranges]\n",
    "yraw = np.block(yraw)\n",
    "\n",
    "print(yraw.shape)"
   ]
  },
  {
   "cell_type": "code",
   "execution_count": 5,
   "id": "cc3c7f67",
   "metadata": {},
   "outputs": [
    {
     "name": "stdout",
     "output_type": "stream",
     "text": [
      "573\n"
     ]
    },
    {
     "data": {
      "text/plain": [
       "<Figure size 432x288 with 0 Axes>"
      ]
     },
     "execution_count": 5,
     "metadata": {},
     "output_type": "execute_result"
    },
    {
     "data": {
      "image/png": "[encoded data removed]",
      "text/plain": [
       "<Figure size 432x288 with 1 Axes>"
      ]
     },
     "metadata": {
      "needs_background": "light"
     },
     "output_type": "display_data"
    },
    {
     "data": {
      "text/plain": [
       "<Figure size 432x288 with 0 Axes>"
      ]
     },
     "metadata": {},
     "output_type": "display_data"
    }
   ],
   "source": [
    "#sample_index=np.random.randint(0,len(Xraw))\n",
    "sample_index=573\n",
    "print(sample_index)\n",
    "plt.scatter([range(0,len(Xraw[sample_index]))], Xraw[sample_index], s=1, c='b', label=f\"{yraw[sample_index]} m\")\n",
    "plt.grid()\n",
    "py.xlabel(\"Feature\")\n",
    "py.ylabel(\"Signal Strength\")\n",
    "py.title(\"Sample Data Point\")\n",
    "plt.legend()\n",
    "plt.figure()"
   ]
  },
  {
   "cell_type": "code",
   "execution_count": 6,
   "id": "f042d34c",
   "metadata": {},
   "outputs": [],
   "source": [
    "def normalize(X):\n",
    "  \n",
    "    normedX = np.zeros_like(X)\n",
    "    #normalize real (0-79) and img (80, 159) separately\n",
    "    normedX[:,0:80] = X[:,0:80] / np.linalg.norm(X[:,0:80], axis=1, keepdims=True).reshape((len(X), 1))\n",
    "    normedX[:,80:160] = X[:,80:160] / np.linalg.norm(X[:,80:160], axis=1, keepdims=True).reshape((len(X), 1))\n",
    "    #normedX = X / np.linalg.norm(X, axis=1, keepdims=True).reshape((len(X), 1))\n",
    "    return normedX\n",
    "\n"
   ]
  },
  {
   "cell_type": "code",
   "execution_count": 7,
   "id": "20a5bf77",
   "metadata": {},
   "outputs": [
    {
     "data": {
      "text/plain": [
       "<Figure size 432x288 with 0 Axes>"
      ]
     },
     "execution_count": 7,
     "metadata": {},
     "output_type": "execute_result"
    },
    {
     "data": {
      "image/png": "[encoded data removed]",
      "text/plain": [
       "<Figure size 432x288 with 1 Axes>"
      ]
     },
     "metadata": {
      "needs_background": "light"
     },
     "output_type": "display_data"
    },
    {
     "data": {
      "text/plain": [
       "<Figure size 432x288 with 0 Axes>"
      ]
     },
     "metadata": {},
     "output_type": "display_data"
    }
   ],
   "source": [
    "x_norm=normalize(Xraw)\n",
    "plt.scatter([range(0,len(x_norm[sample_index]))], x_norm[sample_index], s=1, c='b', label=f\"{yraw[sample_index]} m\")\n",
    "#plt.plot(x_norm[sample_index], c='b')\n",
    "plt.grid()\n",
    "py.xlabel(\"Feature\")\n",
    "py.ylabel(\"Signal Strength\")\n",
    "py.title(\"Sample Data Point\")\n",
    "plt.figure()"
   ]
  },
  {
   "cell_type": "code",
   "execution_count": 8,
   "id": "1ec06e80",
   "metadata": {},
   "outputs": [
    {
     "name": "stdout",
     "output_type": "stream",
     "text": [
      "(840, 160)\n",
      "(361, 160)\n",
      "(840,)\n",
      "(361,)\n"
     ]
    }
   ],
   "source": [
    "from sklearn.model_selection import train_test_split\n",
    "XTrain,XTest = train_test_split(x_norm, test_size=0.3, shuffle=True,random_state=1)\n",
    "yTrain,yTest = train_test_split(yraw, test_size=0.3, shuffle=True,random_state=1)\n",
    "\n",
    "print(XTrain.shape)\n",
    "print(XTest.shape)\n",
    "print(yTrain.shape)\n",
    "print(yTest.shape)"
   ]
  },
  {
   "cell_type": "code",
   "execution_count": 9,
   "id": "333f49ad",
   "metadata": {},
   "outputs": [
    {
     "name": "stdout",
     "output_type": "stream",
     "text": [
      "CUDA *not* available, use cpu\n"
     ]
    }
   ],
   "source": [
    "device = None\n",
    "if torch.cuda.is_available():\n",
    "    print('CUDA available')\n",
    "    print(torch.cuda.get_device_name(0))\n",
    "    device = torch.device('cuda' if torch.cuda.is_available() else 'cpu')\n",
    "else:\n",
    "    print('CUDA *not* available, use cpu')\n",
    "    device = torch.device('cpu')\n",
    "\n",
    "torch.manual_seed(50)\n",
    "\n",
    "#training settings\n",
    "batch_size = 100\n",
    "num_epochs = 500\n",
    "learning_rate = 1e-3\n",
    "criterion = nn.MSELoss()\n",
    "\n",
    "# print interval during the training \n",
    "print_interval=100"
   ]
  },
  {
   "cell_type": "code",
   "execution_count": 10,
   "id": "9e824dcb",
   "metadata": {},
   "outputs": [],
   "source": [
    "def train_dnn(training_inputs, training_outputs, network, epochs, learning_rate, \n",
    "          batch_size, loss_function, print_interval):\n",
    "  # convert numpy data to tensor data for pytorch\n",
    "  train_dataset = torch.utils.data.TensorDataset(torch.FloatTensor(training_inputs),\n",
    "                                                 torch.Tensor(training_outputs))\n",
    "  train_loader = torch.utils.data.DataLoader(train_dataset, batch_size=batch_size, \n",
    "                                             shuffle=True)\n",
    "  optimizer = torch.optim.Adam(network.parameters(), lr=learning_rate, weight_decay=1e-5)\n",
    "  track_losses = np.zeros(epochs)\n",
    "\n",
    "  start = time.time()\n",
    "  for epoch in range(1, epochs+1):\n",
    "\n",
    "      for batch_idx, (X, y) in enumerate(train_loader):\n",
    "          # grab the x's for this batch\n",
    "          data = X\n",
    "\n",
    "          # find the predictions f(x) for this batch\n",
    "          output = network(data.to(device))\n",
    "\n",
    "          # find the loss\n",
    "          loss = loss_function(output, y.view([-1, 1]).to(device))\n",
    "\n",
    "          # compute the gradient and update the network parameters\n",
    "          optimizer.zero_grad()\n",
    "          loss.backward()\n",
    "          optimizer.step()\n",
    "\n",
    "      # housekeeping - keep track of our losses and print them as we go\n",
    "      training_loss = loss.item()**.5\n",
    "      track_losses[epoch-1] = training_loss\n",
    "      if epoch % print_interval == 0:\n",
    "          print('epoch: %4d training loss:%10.3e time:%7.1f'%(epoch, training_loss, time.time()-start))\n",
    "      \n",
    "  return network, track_losses"
   ]
  },
  {
   "cell_type": "code",
   "execution_count": 11,
   "id": "f330e337",
   "metadata": {},
   "outputs": [],
   "source": [
    "def model_eva(XTrain,XTest,yTrain,yTest,model):\n",
    "  XTrain_th=torch.FloatTensor(XTrain)\n",
    "  XTest_th=torch.FloatTensor(XTest)\n",
    "  #   XTrain_th=torch.FloatTensor(XTrain).cuda()\n",
    "  #   XTest_th=torch.FloatTensor(XTest).cuda()\n",
    "  #yTrain_th=torch.Tensor(yTrain).cuda()\n",
    "  #yTest_th=torch.Tensor(yTest).cuda()\n",
    "\n",
    "  yTrain_pred_np=model(XTrain_th).cpu().detach().numpy().reshape(-1)\n",
    "  yTest_pred_np=model(XTest_th).cpu().detach().numpy().reshape(-1)\n",
    "\n",
    "  MAE_train=mean_absolute_error(yTrain_pred_np,yTrain)\n",
    "  MSE_train=mean_squared_error(yTrain_pred_np,yTrain)\n",
    "  RMSE_train=np.sqrt(mean_squared_error(yTrain_pred_np,yTrain))\n",
    "  R2_train=r2_score(yTrain_pred_np,yTrain)\n",
    "\n",
    "  MAE_test=mean_absolute_error(yTest_pred_np,yTest)\n",
    "  MSE_test=mean_squared_error(yTest_pred_np,yTest)\n",
    "  RMSE_test=np.sqrt(mean_squared_error(yTest_pred_np,yTest))\n",
    "  R2_test=r2_score(yTest_pred_np,yTest)\n",
    "\n",
    "  return MAE_train,MSE_train,RMSE_train,R2_train,MAE_test,MSE_test,RMSE_test,R2_test"
   ]
  },
  {
   "cell_type": "code",
   "execution_count": 12,
   "id": "84ceff62",
   "metadata": {},
   "outputs": [],
   "source": [
    "class mynetwork_3(nn.Module):\n",
    "    def __init__(self):\n",
    "        super(mynetwork_3, self).__init__()\n",
    "        self.structure = nn.Sequential(\n",
    "            nn.Linear(160,100),\n",
    "            nn.LeakyReLU(),\n",
    "            nn.Linear(100,80),\n",
    "            nn.LeakyReLU(),\n",
    "            nn.Linear(80,50),\n",
    "            nn.LeakyReLU(),\n",
    "            nn.Linear(50,1)\n",
    "        )\n",
    "\n",
    "    def forward(self, x):\n",
    "        x = self.structure(x)\n",
    "        return x"
   ]
  },
  {
   "cell_type": "code",
   "execution_count": 13,
   "id": "c0b5bd71",
   "metadata": {},
   "outputs": [
    {
     "name": "stdout",
     "output_type": "stream",
     "text": [
      "epoch:  100 training loss: 7.816e+03 time:    0.5\n",
      "epoch:  200 training loss: 3.801e+03 time:    1.0\n",
      "epoch:  300 training loss: 3.230e+03 time:    1.4\n",
      "epoch:  400 training loss: 2.332e+03 time:    1.9\n",
      "epoch:  500 training loss: 1.935e+03 time:    2.4\n"
     ]
    }
   ],
   "source": [
    "model_3 = mynetwork_3()\n",
    "network_3, losses_model3 = train_dnn(XTrain, yTrain, model_3, num_epochs, learning_rate, batch_size, criterion, print_interval)"
   ]
  },
  {
   "cell_type": "code",
   "execution_count": 14,
   "id": "a36ba34c",
   "metadata": {},
   "outputs": [
    {
     "data": {
      "text/plain": [
       "<Figure size 432x288 with 0 Axes>"
      ]
     },
     "execution_count": 14,
     "metadata": {},
     "output_type": "execute_result"
    },
    {
     "data": {
      "image/png": "[encoded data removed]",
      "text/plain": [
       "<Figure size 432x288 with 1 Axes>"
      ]
     },
     "metadata": {
      "needs_background": "light"
     },
     "output_type": "display_data"
    },
    {
     "data": {
      "text/plain": [
       "<Figure size 432x288 with 0 Axes>"
      ]
     },
     "metadata": {},
     "output_type": "display_data"
    }
   ],
   "source": [
    "plt.plot(losses_model3)\n",
    "plt.grid()\n",
    "plt.xlabel(\"Epoch\")\n",
    "plt.ylabel(\"Error\")\n",
    "plt.figure()"
   ]
  },
  {
   "cell_type": "code",
   "execution_count": 15,
   "id": "338b0bfa",
   "metadata": {
    "scrolled": true
   },
   "outputs": [
    {
     "name": "stdout",
     "output_type": "stream",
     "text": [
      "+---------+----------------+----------------+-----------------+----------------+------------+------------+-------------+------------+\n",
      "| Model   |   Training MAE |   Training MSE |   Training RMSE |   Training R^2 |   Test MAE |   Test MSE |   Test RMSE |   Test R^2 |\n",
      "+=========+================+================+=================+================+============+============+=============+============+\n",
      "| NN_3    |        1120.28 |    2.38623e+06 |         1544.74 |       0.991939 |    1602.13 | 4.8862e+06 |     2210.48 |    0.98317 |\n",
      "+---------+----------------+----------------+-----------------+----------------+------------+------------+-------------+------------+\n"
     ]
    }
   ],
   "source": [
    "results=[]\n",
    "MAE_train_nn3,MSE_train_nn3,RMSE_train_nn3,R2_train_nn3,MAE_test_nn3,MSE_test_nn3,RMSE_test_nn3,R2_test_nn3=model_eva(XTrain,XTest,yTrain,yTest,network_3)\n",
    "results.append([\"NN_3\",MAE_train_nn3,MSE_train_nn3,RMSE_train_nn3,R2_train_nn3,MAE_test_nn3,MSE_test_nn3,RMSE_test_nn3,R2_test_nn3])\n",
    "print (tabulate(results, headers=[\"Model\", \"Training MAE\", \"Training MSE\", \"Training RMSE\", \"Training R^2\", \"Test MAE\", \"Test MSE\", \"Test RMSE\", \"Test R^2\"],tablefmt=\"grid\"))"
   ]
  },
  {
   "cell_type": "markdown",
   "id": "a95e5802",
   "metadata": {},
   "source": [
    "## Cross Validation"
   ]
  },
  {
   "cell_type": "code",
   "execution_count": 16,
   "id": "7ee89a4b",
   "metadata": {
    "scrolled": false
   },
   "outputs": [
    {
     "name": "stdout",
     "output_type": "stream",
     "text": [
      "epoch:   20 training loss: 4.105e+04 time:    0.1\n",
      "epoch:   40 training loss: 2.268e+04 time:    0.2\n",
      "epoch:   60 training loss: 1.628e+04 time:    0.2\n",
      "epoch:   80 training loss: 1.510e+04 time:    0.3\n",
      "epoch:  100 training loss: 1.192e+04 time:    0.4\n",
      "epoch:   20 training loss: 8.842e+03 time:    0.1\n",
      "epoch:   40 training loss: 6.479e+03 time:    0.2\n",
      "epoch:   60 training loss: 5.541e+03 time:    0.2\n",
      "epoch:   80 training loss: 4.389e+03 time:    0.3\n",
      "epoch:  100 training loss: 4.204e+03 time:    0.4\n",
      "epoch:   20 training loss: 4.175e+03 time:    0.1\n",
      "epoch:   40 training loss: 3.176e+03 time:    0.2\n",
      "epoch:   60 training loss: 3.042e+03 time:    0.2\n",
      "epoch:   80 training loss: 2.841e+03 time:    0.3\n",
      "epoch:  100 training loss: 2.520e+03 time:    0.4\n",
      "epoch:   20 training loss: 2.517e+03 time:    0.1\n",
      "epoch:   40 training loss: 2.380e+03 time:    0.2\n",
      "epoch:   60 training loss: 2.081e+03 time:    0.2\n",
      "epoch:   80 training loss: 1.877e+03 time:    0.3\n",
      "epoch:  100 training loss: 1.275e+03 time:    0.4\n",
      "epoch:   20 training loss: 1.492e+03 time:    0.1\n",
      "epoch:   40 training loss: 1.701e+03 time:    0.2\n",
      "epoch:   60 training loss: 1.236e+03 time:    0.2\n",
      "epoch:   80 training loss: 1.171e+03 time:    0.3\n",
      "epoch:  100 training loss: 9.019e+02 time:    0.4\n",
      "+---------+----------------+----------------+-----------------+----------------+------------+-------------+-------------+------------+\n",
      "|   Model |   Training MAE |   Training MSE |   Training RMSE |   Training R^2 |   Test MAE |    Test MSE |   Test RMSE |   Test R^2 |\n",
      "+=========+================+================+=================+================+============+=============+=============+============+\n",
      "|       0 |       9938.46  |    1.37075e+08 |        11707.9  |      -1.6545   |  11042.3   | 1.69012e+08 |    13000.4  |  -2.60563  |\n",
      "+---------+----------------+----------------+-----------------+----------------+------------+-------------+-------------+------------+\n",
      "|       0 |       3750.24  |    1.87822e+07 |         4333.84 |       0.928707 |   3456.31  | 1.77788e+07 |     4216.49 |   0.940016 |\n",
      "+---------+----------------+----------------+-----------------+----------------+------------+-------------+-------------+------------+\n",
      "|       0 |       2110.04  |    7.23054e+06 |         2688.97 |       0.975559 |   2724.2   | 1.08478e+07 |     3293.61 |   0.959528 |\n",
      "+---------+----------------+----------------+-----------------+----------------+------------+-------------+-------------+------------+\n",
      "|       0 |       1309.33  |    2.98533e+06 |         1727.81 |       0.989893 |   1514.3   | 3.87066e+06 |     1967.4  |   0.986675 |\n",
      "+---------+----------------+----------------+-----------------+----------------+------------+-------------+-------------+------------+\n",
      "|       0 |        756.484 |    1.03077e+06 |         1015.27 |       0.996561 |    981.874 | 1.80128e+06 |     1342.12 |   0.993557 |\n",
      "+---------+----------------+----------------+-----------------+----------------+------------+-------------+-------------+------------+\n"
     ]
    }
   ],
   "source": [
    "from sklearn.model_selection import KFold\n",
    "\n",
    "model_3_cv = mynetwork_3()\n",
    "n_splits=5\n",
    "num_epochs_cv=int(num_epochs/n_splits) #total epochs are same\n",
    "print_interval_cv=int(print_interval/n_splits)\n",
    "\n",
    "kf = KFold(n_splits)\n",
    "\n",
    "results_cv=[]\n",
    "idx=0\n",
    "for train_ids, test_ids in kf.split(XTrain):\n",
    "    #print(train_ids, test_ids)\n",
    "    XTrain_cv, XTest_cv, yTrain_cv, yTest_cv = \\\n",
    "        XTrain[train_ids], XTrain[test_ids], yTrain[train_ids], yTrain[test_ids]\n",
    "    model_3_cv, losses_model3_cv = \\\n",
    "        train_dnn(XTrain_cv, yTrain_cv, model_3_cv, \\\n",
    "        num_epochs_cv, learning_rate, batch_size, criterion, print_interval_cv)\n",
    "    MAE_train_nn3,MSE_train_nn3,RMSE_train_nn3,R2_train_nn3, \\\n",
    "        MAE_test_nn3,MSE_test_nn3,RMSE_test_nn3,R2_test_nn3= \\\n",
    "        model_eva(XTrain_cv,XTest_cv,yTrain_cv,yTest_cv,model_3_cv)\n",
    "    results_cv.append([f\"{++idx}\",MAE_train_nn3,MSE_train_nn3,RMSE_train_nn3, \\\n",
    "                       R2_train_nn3,MAE_test_nn3,MSE_test_nn3,RMSE_test_nn3,R2_test_nn3])\n",
    "\n",
    "print(tabulate(results_cv, headers=[\"Model\", \"Training MAE\", \"Training MSE\", \\\n",
    "    \"Training RMSE\", \"Training R^2\", \"Test MAE\", \"Test MSE\", \"Test RMSE\", \\\n",
    "    \"Test R^2\"],tablefmt=\"grid\"))\n",
    "\n",
    "\n",
    "    \n",
    "    "
   ]
  },
  {
   "cell_type": "code",
   "execution_count": 17,
   "id": "7bd6d33b",
   "metadata": {},
   "outputs": [
    {
     "name": "stdout",
     "output_type": "stream",
     "text": [
      "+---------+----------------+----------------+-----------------+----------------+------------+-------------+-------------+------------+\n",
      "| Model   |   Training MAE |   Training MSE |   Training RMSE |   Training R^2 |   Test MAE |    Test MSE |   Test RMSE |   Test R^2 |\n",
      "+=========+================+================+=================+================+============+=============+=============+============+\n",
      "| NN_3    |       1120.28  |    2.38623e+06 |         1544.74 |       0.991939 |    1602.13 | 4.8862e+06  |     2210.48 |   0.98317  |\n",
      "+---------+----------------+----------------+-----------------+----------------+------------+-------------+-------------+------------+\n",
      "| NN_3_cv |        801.562 |    1.18487e+06 |         1088.52 |       0.995996 |    1155.44 | 2.55103e+06 |     1597.19 |   0.991236 |\n",
      "+---------+----------------+----------------+-----------------+----------------+------------+-------------+-------------+------------+\n"
     ]
    }
   ],
   "source": [
    "# evaluate nn3 trained with cross validation\n",
    "MAE_train_nn3,MSE_train_nn3,RMSE_train_nn3,R2_train_nn3,MAE_test_nn3,MSE_test_nn3,RMSE_test_nn3,R2_test_nn3=\\\n",
    "    model_eva(XTrain,XTest,yTrain,yTest,model_3_cv)\n",
    "results.append([\"NN_3_cv\",MAE_train_nn3,MSE_train_nn3,RMSE_train_nn3,R2_train_nn3,MAE_test_nn3,MSE_test_nn3,\\\n",
    "                RMSE_test_nn3,R2_test_nn3])\n",
    "print (tabulate(results, headers=[\"Model\", \"Training MAE\", \"Training MSE\", \"Training RMSE\", \"Training R^2\", \\\n",
    "                                  \"Test MAE\", \"Test MSE\", \"Test RMSE\", \"Test R^2\"],tablefmt=\"grid\"))"
   ]
  },
  {
   "cell_type": "markdown",
   "id": "533f9bf5",
   "metadata": {},
   "source": [
    "# Network Design\n",
    "## Activation Function"
   ]
  },
  {
   "cell_type": "code",
   "execution_count": 18,
   "id": "ce99b6eb",
   "metadata": {},
   "outputs": [],
   "source": [
    "class mynetwork_yu_relu(nn.Module):\n",
    "    def __init__(self):\n",
    "        super(mynetwork_yu_relu, self).__init__()\n",
    "        self.structure = nn.Sequential(\n",
    "            nn.Linear(160,100),\n",
    "            #nn.LeakyReLU(),\n",
    "            nn.ReLU(),\n",
    "            nn.Linear(100,80),\n",
    "            #nn.LeakyReLU(),\n",
    "            nn.ReLU(),\n",
    "            nn.Linear(80,50),\n",
    "            #nn.LeakyReLU(),\n",
    "            nn.ReLU(),\n",
    "            nn.Linear(50,1)\n",
    "        )\n",
    "\n",
    "    def forward(self, x):\n",
    "        x = self.structure(x)\n",
    "        return x\n"
   ]
  },
  {
   "cell_type": "code",
   "execution_count": 19,
   "id": "105f3e5c",
   "metadata": {},
   "outputs": [
    {
     "name": "stdout",
     "output_type": "stream",
     "text": [
      "epoch:  100 training loss: 1.064e+04 time:    0.5\n",
      "epoch:  200 training loss: 4.547e+03 time:    1.0\n",
      "epoch:  300 training loss: 3.688e+03 time:    1.5\n",
      "epoch:  400 training loss: 3.419e+03 time:    2.0\n",
      "epoch:  500 training loss: 3.046e+03 time:    2.5\n"
     ]
    }
   ],
   "source": [
    "model_yu_relu = mynetwork_yu_relu()\n",
    "network_yu_relu, losses_yu_relu = train_dnn(XTrain, yTrain, model_yu_relu, num_epochs, learning_rate, batch_size, criterion, print_interval)\n"
   ]
  },
  {
   "cell_type": "code",
   "execution_count": 20,
   "id": "383ab0fd",
   "metadata": {},
   "outputs": [
    {
     "name": "stdout",
     "output_type": "stream",
     "text": [
      "epoch:  100 training loss: 4.412e+04 time:    0.5\n",
      "epoch:  200 training loss: 4.180e+04 time:    1.1\n",
      "epoch:  300 training loss: 4.364e+04 time:    1.6\n",
      "epoch:  400 training loss: 4.406e+04 time:    2.1\n",
      "epoch:  500 training loss: 4.266e+04 time:    2.7\n"
     ]
    }
   ],
   "source": [
    "class mynetwork_yu_sig(nn.Module):\n",
    "    def __init__(self):\n",
    "        super(mynetwork_yu_sig, self).__init__()\n",
    "        self.structure = nn.Sequential(\n",
    "            nn.Linear(160,100),\n",
    "            #nn.LeakyReLU(),\n",
    "            nn.Sigmoid(),\n",
    "            nn.Linear(100,80),\n",
    "            #nn.LeakyReLU(),\n",
    "            nn.Sigmoid(),\n",
    "            nn.Linear(80,50),\n",
    "            #nn.LeakyReLU(),\n",
    "            nn.Sigmoid(),\n",
    "            nn.Linear(50,1)\n",
    "        )\n",
    "\n",
    "    def forward(self, x):\n",
    "        x = self.structure(x)\n",
    "        return x\n",
    "\n",
    "model_yu_sig = mynetwork_yu_sig()\n",
    "network_yu_sig, losses_yu_sig = train_dnn(XTrain, yTrain, model_yu_sig, num_epochs, learning_rate, batch_size, criterion, print_interval)\n"
   ]
  },
  {
   "cell_type": "code",
   "execution_count": 21,
   "id": "f85f3f3f",
   "metadata": {},
   "outputs": [
    {
     "name": "stdout",
     "output_type": "stream",
     "text": [
      "epoch:  100 training loss: 6.088e+03 time:    0.7\n",
      "epoch:  200 training loss: 3.786e+03 time:    1.4\n",
      "epoch:  300 training loss: 3.390e+03 time:    2.1\n",
      "epoch:  400 training loss: 2.682e+03 time:    2.9\n",
      "epoch:  500 training loss: 2.571e+03 time:    3.6\n"
     ]
    }
   ],
   "source": [
    "class mynetwork_yu_elu(nn.Module):\n",
    "    def __init__(self):\n",
    "        super(mynetwork_yu_elu, self).__init__()\n",
    "        self.structure = nn.Sequential(\n",
    "            nn.Linear(160,120),\n",
    "            nn.ELU(),\n",
    "            nn.Linear(120,80),\n",
    "            nn.ELU(),\n",
    "            nn.Linear(80,40),\n",
    "            nn.ELU(),\n",
    "            nn.Linear(40,20),\n",
    "            nn.ELU(),\n",
    "            nn.Linear(20,1)\n",
    "        )\n",
    "\n",
    "    def forward(self, x):\n",
    "        x = self.structure(x)\n",
    "        return x\n",
    "\n",
    "model_yu_elu = mynetwork_yu_elu()\n",
    "network_yu_elu, losses_yu_elu = train_dnn(XTrain, yTrain, model_yu_elu, num_epochs, learning_rate, batch_size, criterion, print_interval)"
   ]
  },
  {
   "cell_type": "code",
   "execution_count": 22,
   "id": "3efd77e1",
   "metadata": {},
   "outputs": [
    {
     "data": {
      "text/plain": [
       "<Figure size 432x288 with 0 Axes>"
      ]
     },
     "execution_count": 22,
     "metadata": {},
     "output_type": "execute_result"
    },
    {
     "data": {
      "image/png": "[encoded data removed]",
      "text/plain": [
       "<Figure size 432x288 with 1 Axes>"
      ]
     },
     "metadata": {
      "needs_background": "light"
     },
     "output_type": "display_data"
    },
    {
     "data": {
      "text/plain": [
       "<Figure size 432x288 with 0 Axes>"
      ]
     },
     "metadata": {},
     "output_type": "display_data"
    }
   ],
   "source": [
    "plt.plot(losses_model3,'r',label='LeakyReLu')\n",
    "plt.plot(losses_yu_relu,'b',label='ReLu')\n",
    "plt.plot(losses_yu_sig,'g',label='Sigmoid')\n",
    "plt.plot(losses_yu_elu,'purple',label='ELU')\n",
    "plt.grid()\n",
    "plt.legend()\n",
    "plt.xlabel(\"Epoch\")\n",
    "plt.ylabel(\"Error\")\n",
    "plt.figure()"
   ]
  },
  {
   "cell_type": "code",
   "execution_count": 23,
   "id": "3a6816d3",
   "metadata": {},
   "outputs": [
    {
     "name": "stdout",
     "output_type": "stream",
     "text": [
      "+--------------+----------------+----------------+-----------------+----------------+------------+-------------+-------------+--------------+\n",
      "| Model        |   Training MAE |   Training MSE |   Training RMSE |   Training R^2 |   Test MAE |    Test MSE |   Test RMSE |     Test R^2 |\n",
      "+==============+================+================+=================+================+============+=============+=============+==============+\n",
      "| NN_3         |       1120.28  |    2.38623e+06 |         1544.74 |    0.991939    |    1602.13 | 4.8862e+06  |     2210.48 |  0.98317     |\n",
      "+--------------+----------------+----------------+-----------------+----------------+------------+-------------+-------------+--------------+\n",
      "| NN_3_cv      |        801.562 |    1.18487e+06 |         1088.52 |    0.995996    |    1155.44 | 2.55103e+06 |     1597.19 |  0.991236    |\n",
      "+--------------+----------------+----------------+-----------------+----------------+------------+-------------+-------------+--------------+\n",
      "| NN_3_relu    |       2086.34  |    7.31897e+06 |         2705.36 |    0.973921    |    2453.08 | 1.05592e+07 |     3249.49 |  0.962748    |\n",
      "+--------------+----------------+----------------+-----------------+----------------+------------+-------------+-------------+--------------+\n",
      "| NN_3_sig     |      39915.7   |    1.89482e+09 |        43529.5  |   -2.03454e+18 |   39520.9  | 1.85984e+09 |    43125.9  | -7.98795e+18 |\n",
      "+--------------+----------------+----------------+-----------------+----------------+------------+-------------+-------------+--------------+\n",
      "| model_yu_elu |       1945.8   |    5.44215e+06 |         2332.84 |    0.981552    |    2296.12 | 7.71282e+06 |     2777.2  |  0.973707    |\n",
      "+--------------+----------------+----------------+-----------------+----------------+------------+-------------+-------------+--------------+\n"
     ]
    }
   ],
   "source": [
    "MAE_train_nn3,MSE_train_nn3,RMSE_train_nn3,R2_train_nn3,MAE_test_nn3,MSE_test_nn3,RMSE_test_nn3,R2_test_nn3=\\\n",
    "    model_eva(XTrain,XTest,yTrain,yTest,network_yu_relu)\n",
    "results.append([\"NN_3_relu\",MAE_train_nn3,MSE_train_nn3,RMSE_train_nn3,R2_train_nn3,MAE_test_nn3,MSE_test_nn3,\\\n",
    "                RMSE_test_nn3,R2_test_nn3])\n",
    "MAE_train_nn3,MSE_train_nn3,RMSE_train_nn3,R2_train_nn3,MAE_test_nn3,MSE_test_nn3,RMSE_test_nn3,R2_test_nn3=\\\n",
    "    model_eva(XTrain,XTest,yTrain,yTest,network_yu_sig)\n",
    "results.append([\"NN_3_sig\",MAE_train_nn3,MSE_train_nn3,RMSE_train_nn3,R2_train_nn3,MAE_test_nn3,MSE_test_nn3,\\\n",
    "                RMSE_test_nn3,R2_test_nn3])\n",
    "MAE_train_nn3,MSE_train_nn3,RMSE_train_nn3,R2_train_nn3,MAE_test_nn3,MSE_test_nn3,RMSE_test_nn3,R2_test_nn3=\\\n",
    "    model_eva(XTrain,XTest,yTrain,yTest,network_yu_elu)\n",
    "results.append([\"model_yu_elu\",MAE_train_nn3,MSE_train_nn3,RMSE_train_nn3,R2_train_nn3,MAE_test_nn3,MSE_test_nn3,\\\n",
    "                RMSE_test_nn3,R2_test_nn3])\n",
    "print (tabulate(results, headers=[\"Model\", \"Training MAE\", \"Training MSE\", \"Training RMSE\", \"Training R^2\", \\\n",
    "                                  \"Test MAE\", \"Test MSE\", \"Test RMSE\", \"Test R^2\"],tablefmt=\"grid\"))"
   ]
  },
  {
   "cell_type": "markdown",
   "id": "4937ed87",
   "metadata": {},
   "source": [
    "# Layer Design"
   ]
  },
  {
   "cell_type": "code",
   "execution_count": 24,
   "id": "7bf07322",
   "metadata": {},
   "outputs": [
    {
     "name": "stdout",
     "output_type": "stream",
     "text": [
      "epoch:  100 training loss: 5.681e+03 time:    0.6\n",
      "epoch:  200 training loss: 2.678e+03 time:    1.1\n",
      "epoch:  300 training loss: 1.927e+03 time:    1.6\n",
      "epoch:  400 training loss: 1.284e+03 time:    2.2\n",
      "epoch:  500 training loss: 1.115e+03 time:    2.7\n",
      "+--------------+----------------+------------------+-----------------+----------------+------------+-------------+-------------+--------------+\n",
      "| Model        |   Training MAE |     Training MSE |   Training RMSE |   Training R^2 |   Test MAE |    Test MSE |   Test RMSE |     Test R^2 |\n",
      "+==============+================+==================+=================+================+============+=============+=============+==============+\n",
      "| NN_3         |       1120.28  |      2.38623e+06 |         1544.74 |    0.991939    |   1602.13  | 4.8862e+06  |     2210.48 |  0.98317     |\n",
      "+--------------+----------------+------------------+-----------------+----------------+------------+-------------+-------------+--------------+\n",
      "| NN_3_cv      |        801.562 |      1.18487e+06 |         1088.52 |    0.995996    |   1155.44  | 2.55103e+06 |     1597.19 |  0.991236    |\n",
      "+--------------+----------------+------------------+-----------------+----------------+------------+-------------+-------------+--------------+\n",
      "| NN_3_relu    |       2086.34  |      7.31897e+06 |         2705.36 |    0.973921    |   2453.08  | 1.05592e+07 |     3249.49 |  0.962748    |\n",
      "+--------------+----------------+------------------+-----------------+----------------+------------+-------------+-------------+--------------+\n",
      "| NN_3_sig     |      39915.7   |      1.89482e+09 |        43529.5  |   -2.03454e+18 |  39520.9   | 1.85984e+09 |    43125.9  | -7.98795e+18 |\n",
      "+--------------+----------------+------------------+-----------------+----------------+------------+-------------+-------------+--------------+\n",
      "| model_yu_elu |       1945.8   |      5.44215e+06 |         2332.84 |    0.981552    |   2296.12  | 7.71282e+06 |     2777.2  |  0.973707    |\n",
      "+--------------+----------------+------------------+-----------------+----------------+------------+-------------+-------------+--------------+\n",
      "| model_yu_4   |        585.391 | 615722           |          784.68 |    0.997949    |    921.874 | 1.61416e+06 |     1270.5  |  0.994509    |\n",
      "+--------------+----------------+------------------+-----------------+----------------+------------+-------------+-------------+--------------+\n"
     ]
    }
   ],
   "source": [
    "class mynetwork_yu_4(nn.Module):\n",
    "    def __init__(self):\n",
    "        super(mynetwork_yu_4, self).__init__()\n",
    "        self.structure = nn.Sequential(\n",
    "            nn.Linear(160,120),\n",
    "            nn.LeakyReLU(),\n",
    "            nn.Linear(120,80),\n",
    "            nn.LeakyReLU(),\n",
    "            nn.Linear(80,40),\n",
    "            nn.LeakyReLU(),\n",
    "            nn.Linear(40,20),\n",
    "            nn.LeakyReLU(),\n",
    "            nn.Linear(20,1)\n",
    "        )\n",
    "\n",
    "    def forward(self, x):\n",
    "        x = self.structure(x)\n",
    "        return x\n",
    "\n",
    "model_yu_4 = mynetwork_yu_4()\n",
    "network_yu_4, losses_yu_4 = train_dnn(XTrain, yTrain, model_yu_4, num_epochs, learning_rate, batch_size, criterion, print_interval)\n",
    "MAE_train_nn3,MSE_train_nn3,RMSE_train_nn3,R2_train_nn3,MAE_test_nn3,MSE_test_nn3,RMSE_test_nn3,R2_test_nn3=\\\n",
    "    model_eva(XTrain,XTest,yTrain,yTest,network_yu_4)\n",
    "results.append([\"model_yu_4\",MAE_train_nn3,MSE_train_nn3,RMSE_train_nn3,R2_train_nn3,MAE_test_nn3,MSE_test_nn3,\\\n",
    "                RMSE_test_nn3,R2_test_nn3])\n",
    "print (tabulate(results, headers=[\"Model\", \"Training MAE\", \"Training MSE\", \"Training RMSE\", \"Training R^2\", \\\n",
    "                                  \"Test MAE\", \"Test MSE\", \"Test RMSE\", \"Test R^2\"],tablefmt=\"grid\"))\n"
   ]
  },
  {
   "cell_type": "code",
   "execution_count": 25,
   "id": "cf6c7aeb",
   "metadata": {},
   "outputs": [
    {
     "name": "stdout",
     "output_type": "stream",
     "text": [
      "epoch:  100 training loss: 6.001e+03 time:    0.7\n",
      "epoch:  200 training loss: 3.906e+03 time:    1.5\n",
      "epoch:  300 training loss: 2.719e+03 time:    2.2\n",
      "epoch:  400 training loss: 2.206e+03 time:    3.0\n",
      "epoch:  500 training loss: 2.439e+03 time:    3.7\n"
     ]
    }
   ],
   "source": [
    "class mynetwork_yu_5(nn.Module):\n",
    "    def __init__(self):\n",
    "        super(mynetwork_yu_5, self).__init__()\n",
    "        self.structure = nn.Sequential(\n",
    "            nn.Linear(160,120),\n",
    "            nn.ELU(),\n",
    "            nn.Linear(120,80),\n",
    "            nn.ELU(),\n",
    "            nn.Linear(80,40),\n",
    "            nn.ELU(),\n",
    "            nn.Linear(40,20),\n",
    "            nn.LeakyReLU(),\n",
    "            nn.Linear(20,1),\n",
    "            nn.Dropout(0.01)\n",
    "        )\n",
    "\n",
    "    def forward(self, x):\n",
    "        x = self.structure(x)\n",
    "        return x\n",
    "\n",
    "model_yu_5 = mynetwork_yu_5()\n",
    "network_yu_5, losses_yu_5 = train_dnn(XTrain, yTrain, model_yu_5, num_epochs, learning_rate, batch_size, criterion, print_interval)\n",
    "MAE_train_nn3,MSE_train_nn3,RMSE_train_nn3,R2_train_nn3,MAE_test_nn3,MSE_test_nn3,RMSE_test_nn3,R2_test_nn3=\\\n",
    "    model_eva(XTrain,XTest,yTrain,yTest,network_yu_5)\n",
    "results.append([\"model_yu_5\",MAE_train_nn3,MSE_train_nn3,RMSE_train_nn3,R2_train_nn3,MAE_test_nn3,MSE_test_nn3,\\\n",
    "                RMSE_test_nn3,R2_test_nn3])\n"
   ]
  },
  {
   "cell_type": "code",
   "execution_count": 26,
   "id": "96b5661d",
   "metadata": {},
   "outputs": [
    {
     "name": "stdout",
     "output_type": "stream",
     "text": [
      "| Model        |   Training MAE |     Training MSE |   Training RMSE |   Training R^2 |   Test MAE |    Test MSE |   Test RMSE |     Test R^2 |\n",
      "|--------------|----------------|------------------|-----------------|----------------|------------|-------------|-------------|--------------|\n",
      "| NN_3         |       1120.28  |      2.38623e+06 |         1544.74 |    0.991939    |   1602.13  | 4.8862e+06  |     2210.48 |  0.98317     |\n",
      "| NN_3_cv      |        801.562 |      1.18487e+06 |         1088.52 |    0.995996    |   1155.44  | 2.55103e+06 |     1597.19 |  0.991236    |\n",
      "| NN_3_relu    |       2086.34  |      7.31897e+06 |         2705.36 |    0.973921    |   2453.08  | 1.05592e+07 |     3249.49 |  0.962748    |\n",
      "| NN_3_sig     |      39915.7   |      1.89482e+09 |        43529.5  |   -2.03454e+18 |  39520.9   | 1.85984e+09 |    43125.9  | -7.98795e+18 |\n",
      "| model_yu_elu |       1945.8   |      5.44215e+06 |         2332.84 |    0.981552    |   2296.12  | 7.71282e+06 |     2777.2  |  0.973707    |\n",
      "| model_yu_4   |        585.391 | 615722           |          784.68 |    0.997949    |    921.874 | 1.61416e+06 |     1270.5  |  0.994509    |\n",
      "| model_yu_5   |       2021.05  |      2.00292e+07 |         4475.4  |    0.934555    |   2293.98  | 1.7634e+07  |     4199.29 |  0.941417    |\n"
     ]
    }
   ],
   "source": [
    "print (tabulate(results, headers=[\"Model\", \"Training MAE\", \"Training MSE\", \"Training RMSE\", \"Training R^2\", \\\n",
    "                                  \"Test MAE\", \"Test MSE\", \"Test RMSE\", \"Test R^2\"],tablefmt=\"github\"))"
   ]
  }
 ],
 "metadata": {
  "kernelspec": {
   "display_name": "Python 3 (ipykernel)",
   "language": "python",
   "name": "python3"
  },
  "language_info": {
   "codemirror_mode": {
    "name": "ipython",
    "version": 3
   },
   "file_extension": ".py",
   "mimetype": "text/x-python",
   "name": "python",
   "nbconvert_exporter": "python",
   "pygments_lexer": "ipython3",
   "version": "3.9.13"
  }
 },
 "nbformat": 4,
 "nbformat_minor": 5
}
